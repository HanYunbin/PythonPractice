{
  "nbformat": 4,
  "nbformat_minor": 0,
  "metadata": {
    "colab": {
      "name": "파이썬을 이용한 리스트 ADT.ipynb",
      "provenance": []
    },
    "kernelspec": {
      "name": "python3",
      "display_name": "Python 3"
    },
    "language_info": {
      "name": "python"
    }
  },
  "cells": [
    {
      "cell_type": "markdown",
      "source": [
        "데이터 : 같은 유형의 요소들의 순서 있는 모임\n",
        "연산\n",
        "\n",
        "*   List() : 비어 있는 새로운 리스트를 만든다.\n",
        "\n",
        "*   insert(pos, e) : pos 위치에 새로운 요소 e를 삽입한다.\n",
        "\n",
        "*   delete(pos): pos 위치에 있는 요소를 꺼내고(삭제) 반환한다.\n",
        "\n",
        "*   isEmpty() : 리스트가 비어있는지를 검사한다.\n",
        "\n",
        "*   getEntry(pos) : pos 위치에 있는 요소를 반환한다.\n",
        "\n",
        "*   size() : 리스트안의 요소의 개수를 반환한다.\n",
        "\n",
        "*   clear() : 리스트를 초기화한다.\n",
        "*   find(item) : 리스트에서 item이 있는지 찾아 인덱스를 반환한다.\n",
        "\n",
        "\n",
        "*   replace(pos, item) : pos 에 있는 항목을 item으로 바꾼다.\n",
        "\n",
        "\n",
        "*   sort(): 리스트의 항목들을 어떤 기준으로 정렬한다.\n",
        "\n",
        "\n",
        "*   merge(lst) : 다른 리스트 lst를 리스트에 추가한다.\n",
        "\n",
        "\n",
        "*   display() : 리스트를 화면에 출력한다.\n",
        "\n",
        "\n",
        "*   append(e) : 리스트의 맨 뒤에 새로운 항목을 추가한다.\n",
        "\n"
      ],
      "metadata": {
        "id": "Mw_VGKqbjsXs"
      }
    },
    {
      "cell_type": "code",
      "source": [
        "class List:\n",
        "  def __init__(self):\n",
        "    self.lst = []\n",
        "\n",
        "  def insert(self, pos, e):\n",
        "    self.lst.insert(pos, e)\n",
        "\n",
        "  def delete(self, pos):\n",
        "    self.lst.pop(pos)\n",
        "\n",
        "  def isEmpty(self):\n",
        "    if len(self.lst) == 0:\n",
        "      print(\"이 리스트는 비었습니다\")\n",
        "    else:\n",
        "      print(\"이 리스트는 비지 않았습니다\")\n",
        "\n",
        "  def getEntry(self, pos):\n",
        "    print(self.lst[pos])\n",
        "\n",
        "  def size(self):\n",
        "    print(len(self.lst))\n",
        "\n",
        "  def clear(self):\n",
        "    self.lst.clear()\n",
        "    print(\"리스트 초기화 완료!\")\n",
        "\n",
        "  def find(self, item):\n",
        "    print(self.lst.index(item))\n",
        "\n",
        "  def replace(self, pos, item) :\n",
        "    self.lst[pos] = item\n",
        "    print(self.lst)\n",
        "\n",
        "  def sort(self):\n",
        "    self.lst.sort()\n",
        "    print(self.lst)\n",
        "  \n",
        "  def sortR(self):\n",
        "    self.lst.sort(reverse=True)\n",
        "    print(self.lst)\n",
        "\n",
        "  def merge(self, lst):\n",
        "    self.lst.extend(lst)\n",
        "    print(self.lst)\n",
        "\n",
        "  def display(self):\n",
        "    print(self.lst)\n",
        "\n",
        "  def append(self, e):\n",
        "    self.lst.append(e)\n",
        "    print(self.lst)"
      ],
      "metadata": {
        "id": "jYg1ep8W0qNv"
      },
      "execution_count": 97,
      "outputs": []
    },
    {
      "cell_type": "code",
      "source": [
        "lst = List()\n",
        "\n",
        "lst.insert(0, \"농담곰\")\n",
        "lst.insert(1, \"퍼그\")\n",
        "lst.insert(2, \"고로케\")\n",
        "lst.delete(0)\n",
        "lst.isEmpty()\n",
        "lst.getEntry(0)\n",
        "lst.size()\n",
        "lst.clear()\n",
        "lst.insert(0, \"농담곰\")\n",
        "lst.insert(1, \"퍼그\")\n",
        "lst.insert(2, \"고로케\")\n",
        "lst.find(\"고로케\")\n",
        "lst.replace(0, \"한윤빈\")\n",
        "lst.sort()\n",
        "lst.sortR()\n",
        "lst.merge([\"농담곰\", \"고로케\"])\n",
        "lst.display()\n",
        "lst.append(\"고로케\") "
      ],
      "metadata": {
        "colab": {
          "base_uri": "https://localhost:8080/"
        },
        "id": "oC2UELfI3n0e",
        "outputId": "01317c7a-9049-40dc-876e-b164c307d822"
      },
      "execution_count": 99,
      "outputs": [
        {
          "output_type": "stream",
          "name": "stdout",
          "text": [
            "이 리스트는 비지 않았습니다\n",
            "퍼그\n",
            "2\n",
            "리스트 초기화 완료!\n",
            "2\n",
            "['한윤빈', '퍼그', '고로케']\n",
            "['고로케', '퍼그', '한윤빈']\n",
            "['한윤빈', '퍼그', '고로케']\n",
            "['한윤빈', '퍼그', '고로케', '농담곰', '고로케']\n",
            "['한윤빈', '퍼그', '고로케', '농담곰', '고로케']\n",
            "['한윤빈', '퍼그', '고로케', '농담곰', '고로케', '고로케']\n"
          ]
        }
      ]
    }
  ]
}