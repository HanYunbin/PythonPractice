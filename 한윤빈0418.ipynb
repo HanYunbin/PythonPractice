{
  "nbformat": 4,
  "nbformat_minor": 0,
  "metadata": {
    "colab": {
      "name": "한윤빈0418.ipynb",
      "provenance": [],
      "collapsed_sections": []
    },
    "kernelspec": {
      "name": "python3",
      "display_name": "Python 3"
    },
    "language_info": {
      "name": "python"
    }
  },
  "cells": [
    {
      "cell_type": "markdown",
      "source": [
        "1. 키보드로부터 숫자 열개를 입력받고\n",
        "평균, 분산, 표준 편차 반환 함수\n",
        "함수에 입력받은 숫자와 숫자들의 평균 분산 표준편차를 출력하는 코드\n",
        "2. 최소 최대값 반환 함수(최소 인덱스, 최대 인덱스)\n",
        "3. 정렬(오름, 내림) 함수"
      ],
      "metadata": {
        "id": "Le2pOrsuDdoM"
      }
    },
    {
      "cell_type": "code",
      "source": [
        "# 1. 평균, 분산, 표준편차 구하기\n",
        "def number(m_num):\n",
        "  sum = 0\n",
        "  count = 0\n",
        "  average = 0\n",
        "  variancenum = 0\n",
        "\n",
        "# average\n",
        "  for val in m_num:\n",
        "     sum = sum + val\n",
        "  while count < (int(len(m_num))):\n",
        "     count = count + 1\n",
        "  average = sum / count\n",
        "\n",
        "# variance\n",
        "  for val in m_num:\n",
        "    variancenum += (val - average)** 2\n",
        "  variance = variancenum / count\n",
        "\n",
        "# standard_deviation \n",
        "  standard_deviation = variance ** 0.5\n",
        "\n",
        "  return average, variance, standard_deviation"
      ],
      "metadata": {
        "id": "Qo5GDEWyXpeb"
      },
      "execution_count": 3,
      "outputs": []
    },
    {
      "cell_type": "code",
      "source": [
        "# 2. 최소 최대값 반환 함수(최소 인덱스, 최대 인덱스)\n",
        "def big_small(m_num):\n",
        "  big = 0\n",
        "  small = m_num[0]\n",
        "\n",
        "# 최대값, 최대 인덱스\n",
        "  for val in m_num:    \n",
        "    if big < val:\n",
        "      big = val\n",
        "  biggest = m_num.index(big)  \n",
        "# 최소값, 최소 인덱스\n",
        "  for val in m_num:\n",
        "    if small > val:\n",
        "      small = val\n",
        "  smallest = m_num.index(small)\n",
        "\n",
        "  return small, smallest, big, biggest"
      ],
      "metadata": {
        "id": "J2GvDuTfXrOK"
      },
      "execution_count": 4,
      "outputs": []
    },
    {
      "cell_type": "code",
      "source": [
        "# 3. 정렬(오름, 내림) 함수\n",
        "\n",
        "# 오름\n",
        "def ascending_descending(num):\n",
        "  swap = 0\n",
        "\n",
        "  for i in range(len(num)):\n",
        "    num1 = num[i]\n",
        "    for j in range(len(num)):\n",
        "      num2 = num[j]\n",
        "      if num1 < num2:\n",
        "         swap = num1\n",
        "         num1 = num2\n",
        "         num2 = swap\n",
        "         num[i] = num1\n",
        "         num[j] = num2 \n",
        "\n",
        "  print(\"오름차순은\", m_num)\n",
        "  swap = 0\n",
        "\n",
        "  for i in range(len(m_num)):\n",
        "    num1 = m_num[i]\n",
        "    for j in range(len(m_num)):\n",
        "      num2 = m_num[j]\n",
        "      if num1 > num2:\n",
        "         swap = num1\n",
        "         num1 = num2\n",
        "         num2 = swap\n",
        "         m_num[i] = num1\n",
        "         m_num[j] = num2\n",
        "\n",
        "  print(\"내림차순은\", m_num)\n",
        "\n",
        "  return"
      ],
      "metadata": {
        "id": "JIsSO0CzXtGK"
      },
      "execution_count": 10,
      "outputs": []
    },
    {
      "cell_type": "code",
      "source": [
        "m_num = list(map(int, input('숫자 열개를 띄워서 입력하세요').split()))\n",
        "\n",
        "x1, x2, x3 = number(m_num)\n",
        "print (\"평균은\", x1, \"분산은\", x2, \"표준편차는\", x3)\n",
        "\n",
        "x1, x2, x3, x4 = big_small(m_num)\n",
        "print(\"작은 수는\", x1, \"최소 인덱스는\", x2, \"큰 수는\", x3, \"최대 인덱스는\", x4)\n",
        "\n",
        "ascending_descending(m_num)"
      ],
      "metadata": {
        "colab": {
          "base_uri": "https://localhost:8080/"
        },
        "id": "QWlrrrXTXu1r",
        "outputId": "70736561-9961-4e20-ff08-b93b38e2b8e4"
      },
      "execution_count": 11,
      "outputs": [
        {
          "output_type": "stream",
          "name": "stdout",
          "text": [
            "숫자 열개를 띄워서 입력하세요45 7 412 78 5\n",
            "평균은 109.4 분산은 23617.04 표준편차는 153.6783654259766\n",
            "작은 수는 5 최소 인덱스는 4 큰 수는 412 최대 인덱스는 2\n",
            "오름차순은 [5, 7, 45, 78, 412]\n",
            "내림차순은 [412, 78, 45, 7, 5]\n"
          ]
        }
      ]
    }
  ]
}