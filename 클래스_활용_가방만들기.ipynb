{
  "nbformat": 4,
  "nbformat_minor": 0,
  "metadata": {
    "colab": {
      "name": "클래스 활용 가방만들기.ipynb",
      "provenance": []
    },
    "kernelspec": {
      "name": "python3",
      "display_name": "Python 3"
    },
    "language_info": {
      "name": "python"
    }
  },
  "cells": [
    {
      "cell_type": "markdown",
      "source": [
        "데이터 : 중복된 항목을 허용하는 자료들의 저장소. 항목들은 특별한 순서가 없이 개별적으로 저장되지만 항목간의 비교는 가능해야 함.\n",
        "\n",
        "연산 :\n",
        "\n",
        "\n",
        "*   Bag() : 비어있는 가방을 새로 만든다.\n",
        "*   insert(e) : 가방에 항목 e를 넣는다.\n",
        "*   remove(e) : 가방에 e 가 있는지 검사하여 있으면 이 항목을 꺼낸다.\n",
        "*   contains(e) : e가 들어 있으면 True를 없으면 False를 반환한다.\n",
        "*   count() : 가방에 들어 있는 항목들의 수를 반환한다.\n",
        "\n",
        "\n",
        "\n"
      ],
      "metadata": {
        "id": "qyWQBBL8q9Wy"
      }
    },
    {
      "cell_type": "code",
      "source": [
        "class Bag:\n",
        "  def __init__(self):\n",
        "    self.Bag = []\n",
        "\n",
        "  def insert(self, e):\n",
        "    self.Bag.append(e)\n",
        "\n",
        "  def remove(self, e):\n",
        "    if e in self.Bag:\n",
        "      self.Bag.remove(e)\n",
        "      print(e, \"remove success\")\n",
        "    else:\n",
        "      print(\"list에 \"+ e + \"(이)가 없습니다.\")\n",
        "\n",
        "  def contains(self, e):\n",
        "    print(\"가방에 \", e , \"(이)라는 물건이 있는지의 여부는\", e in self.Bag)\n",
        "\n",
        "  def count(self):\n",
        "    print(\"가방에 있는 소지품은\", len(self.Bag), \"개 입니다.\")\n"
      ],
      "metadata": {
        "id": "ccjOR75BsNCH"
      },
      "execution_count": 18,
      "outputs": []
    },
    {
      "cell_type": "code",
      "source": [
        "bag = Bag()\n",
        "\n",
        "bag.insert(\"농담곰\")\n",
        "bag.insert(\"지갑\")\n",
        "bag.insert(\"껌\")\n",
        "bag.remove(\"윤빈\")\n",
        "bag.remove(\"껌\")\n",
        "bag.contains(\"농담곰\")\n",
        "bag.count()"
      ],
      "metadata": {
        "colab": {
          "base_uri": "https://localhost:8080/"
        },
        "id": "CRiujO2byAio",
        "outputId": "ea6ce4cf-366f-4040-b998-97be9aad64b4"
      },
      "execution_count": 20,
      "outputs": [
        {
          "output_type": "stream",
          "name": "stdout",
          "text": [
            "list에 윤빈(이)가 없습니다.\n",
            "껌 remove success\n",
            "가방에  농담곰 (이)라는 물건이 있는지의 여부는 True\n",
            "가방에 있는 소지품은 2 개 입니다.\n"
          ]
        }
      ]
    }
  ]
}